{
 "cells": [
  {
   "cell_type": "code",
   "execution_count": 3,
   "metadata": {},
   "outputs": [
    {
     "data": {
      "text/plain": [
       "True"
      ]
     },
     "execution_count": 3,
     "metadata": {},
     "output_type": "execute_result"
    }
   ],
   "source": [
    "from dotenv import load_dotenv\n",
    "import os\n",
    "\n",
    "load_dotenv()"
   ]
  },
  {
   "cell_type": "code",
   "execution_count": 4,
   "metadata": {},
   "outputs": [],
   "source": [
    "os.environ['OPENAI_API_KEY']=os.getenv(\"OPENAI_API_KEY\")"
   ]
  },
  {
   "cell_type": "code",
   "execution_count": 10,
   "metadata": {},
   "outputs": [
    {
     "name": "stdout",
     "output_type": "stream",
     "text": [
      "Requirement already satisfied: llama-index in c:\\users\\dvins\\anaconda3\\lib\\site-packages (0.11.6)\n",
      "Requirement already satisfied: llama-index-agent-openai<0.4.0,>=0.3.0 in c:\\users\\dvins\\anaconda3\\lib\\site-packages (from llama-index) (0.3.0)\n",
      "Requirement already satisfied: llama-index-cli<0.4.0,>=0.3.0 in c:\\users\\dvins\\anaconda3\\lib\\site-packages (from llama-index) (0.3.0)\n",
      "Requirement already satisfied: llama-index-core<0.12.0,>=0.11.6 in c:\\users\\dvins\\anaconda3\\lib\\site-packages (from llama-index) (0.11.6)\n",
      "Requirement already satisfied: llama-index-embeddings-openai<0.3.0,>=0.2.4 in c:\\users\\dvins\\anaconda3\\lib\\site-packages (from llama-index) (0.2.4)\n",
      "Requirement already satisfied: llama-index-indices-managed-llama-cloud>=0.3.0 in c:\\users\\dvins\\anaconda3\\lib\\site-packages (from llama-index) (0.3.0)\n",
      "Requirement already satisfied: llama-index-legacy<0.10.0,>=0.9.48 in c:\\users\\dvins\\anaconda3\\lib\\site-packages (from llama-index) (0.9.48.post3)\n",
      "Requirement already satisfied: llama-index-llms-openai<0.3.0,>=0.2.2 in c:\\users\\dvins\\anaconda3\\lib\\site-packages (from llama-index) (0.2.2)\n",
      "Requirement already satisfied: llama-index-multi-modal-llms-openai<0.3.0,>=0.2.0 in c:\\users\\dvins\\anaconda3\\lib\\site-packages (from llama-index) (0.2.0)\n",
      "Requirement already satisfied: llama-index-program-openai<0.3.0,>=0.2.0 in c:\\users\\dvins\\anaconda3\\lib\\site-packages (from llama-index) (0.2.0)\n",
      "Requirement already satisfied: llama-index-question-gen-openai<0.3.0,>=0.2.0 in c:\\users\\dvins\\anaconda3\\lib\\site-packages (from llama-index) (0.2.0)\n",
      "Requirement already satisfied: llama-index-readers-file<0.3.0,>=0.2.0 in c:\\users\\dvins\\anaconda3\\lib\\site-packages (from llama-index) (0.2.1)\n",
      "Requirement already satisfied: llama-index-readers-llama-parse>=0.3.0 in c:\\users\\dvins\\anaconda3\\lib\\site-packages (from llama-index) (0.3.0)\n",
      "Requirement already satisfied: nltk>3.8.1 in c:\\users\\dvins\\anaconda3\\lib\\site-packages (from llama-index) (3.9.1)\n",
      "Requirement already satisfied: openai>=1.14.0 in c:\\users\\dvins\\anaconda3\\lib\\site-packages (from llama-index-agent-openai<0.4.0,>=0.3.0->llama-index) (1.43.1)\n",
      "Requirement already satisfied: PyYAML>=6.0.1 in c:\\users\\dvins\\anaconda3\\lib\\site-packages (from llama-index-core<0.12.0,>=0.11.6->llama-index) (6.0.2)\n",
      "Requirement already satisfied: SQLAlchemy>=1.4.49 in c:\\users\\dvins\\anaconda3\\lib\\site-packages (from SQLAlchemy[asyncio]>=1.4.49->llama-index-core<0.12.0,>=0.11.6->llama-index) (2.0.29)\n",
      "Requirement already satisfied: aiohttp<4.0.0,>=3.8.6 in c:\\users\\dvins\\anaconda3\\lib\\site-packages (from llama-index-core<0.12.0,>=0.11.6->llama-index) (3.10.5)\n",
      "Requirement already satisfied: dataclasses-json in c:\\users\\dvins\\anaconda3\\lib\\site-packages (from llama-index-core<0.12.0,>=0.11.6->llama-index) (0.6.7)\n",
      "Requirement already satisfied: deprecated>=1.2.9.3 in c:\\users\\dvins\\anaconda3\\lib\\site-packages (from llama-index-core<0.12.0,>=0.11.6->llama-index) (1.2.14)\n",
      "Requirement already satisfied: dirtyjson<2.0.0,>=1.0.8 in c:\\users\\dvins\\anaconda3\\lib\\site-packages (from llama-index-core<0.12.0,>=0.11.6->llama-index) (1.0.8)\n",
      "Requirement already satisfied: fsspec>=2023.5.0 in c:\\users\\dvins\\anaconda3\\lib\\site-packages (from llama-index-core<0.12.0,>=0.11.6->llama-index) (2024.9.0)\n",
      "Requirement already satisfied: httpx in c:\\users\\dvins\\anaconda3\\lib\\site-packages (from llama-index-core<0.12.0,>=0.11.6->llama-index) (0.27.2)\n",
      "Requirement already satisfied: nest-asyncio<2.0.0,>=1.5.8 in c:\\users\\dvins\\anaconda3\\lib\\site-packages (from llama-index-core<0.12.0,>=0.11.6->llama-index) (1.6.0)\n",
      "Requirement already satisfied: networkx>=3.0 in c:\\users\\dvins\\anaconda3\\lib\\site-packages (from llama-index-core<0.12.0,>=0.11.6->llama-index) (3.2.1)\n",
      "Requirement already satisfied: numpy<2.0.0 in c:\\users\\dvins\\appdata\\roaming\\python\\python39\\site-packages (from llama-index-core<0.12.0,>=0.11.6->llama-index) (1.26.4)\n",
      "Requirement already satisfied: pillow>=9.0.0 in c:\\users\\dvins\\anaconda3\\lib\\site-packages (from llama-index-core<0.12.0,>=0.11.6->llama-index) (9.2.0)\n",
      "Requirement already satisfied: pydantic<3.0.0,>=2.7.0 in c:\\users\\dvins\\anaconda3\\lib\\site-packages (from llama-index-core<0.12.0,>=0.11.6->llama-index) (2.9.0)\n",
      "Requirement already satisfied: requests>=2.31.0 in c:\\users\\dvins\\anaconda3\\lib\\site-packages (from llama-index-core<0.12.0,>=0.11.6->llama-index) (2.31.0)\n",
      "Requirement already satisfied: tenacity!=8.4.0,<9.0.0,>=8.2.0 in c:\\users\\dvins\\anaconda3\\lib\\site-packages (from llama-index-core<0.12.0,>=0.11.6->llama-index) (8.5.0)\n",
      "Requirement already satisfied: tiktoken>=0.3.3 in c:\\users\\dvins\\anaconda3\\lib\\site-packages (from llama-index-core<0.12.0,>=0.11.6->llama-index) (0.7.0)\n",
      "Requirement already satisfied: tqdm<5.0.0,>=4.66.1 in c:\\users\\dvins\\anaconda3\\lib\\site-packages (from llama-index-core<0.12.0,>=0.11.6->llama-index) (4.66.5)\n",
      "Requirement already satisfied: typing-extensions>=4.5.0 in c:\\users\\dvins\\anaconda3\\lib\\site-packages (from llama-index-core<0.12.0,>=0.11.6->llama-index) (4.11.0)\n",
      "Requirement already satisfied: typing-inspect>=0.8.0 in c:\\users\\dvins\\anaconda3\\lib\\site-packages (from llama-index-core<0.12.0,>=0.11.6->llama-index) (0.9.0)\n",
      "Requirement already satisfied: wrapt in c:\\users\\dvins\\anaconda3\\lib\\site-packages (from llama-index-core<0.12.0,>=0.11.6->llama-index) (1.14.1)\n",
      "Requirement already satisfied: llama-cloud>=0.0.11 in c:\\users\\dvins\\anaconda3\\lib\\site-packages (from llama-index-indices-managed-llama-cloud>=0.3.0->llama-index) (0.0.17)\n",
      "Requirement already satisfied: pandas in c:\\users\\dvins\\appdata\\roaming\\python\\python39\\site-packages (from llama-index-legacy<0.10.0,>=0.9.48->llama-index) (2.0.3)\n",
      "Requirement already satisfied: beautifulsoup4<5.0.0,>=4.12.3 in c:\\users\\dvins\\anaconda3\\lib\\site-packages (from llama-index-readers-file<0.3.0,>=0.2.0->llama-index) (4.12.3)\n",
      "Requirement already satisfied: pypdf<5.0.0,>=4.0.1 in c:\\users\\dvins\\anaconda3\\lib\\site-packages (from llama-index-readers-file<0.3.0,>=0.2.0->llama-index) (4.3.1)\n",
      "Requirement already satisfied: striprtf<0.0.27,>=0.0.26 in c:\\users\\dvins\\anaconda3\\lib\\site-packages (from llama-index-readers-file<0.3.0,>=0.2.0->llama-index) (0.0.26)\n",
      "Requirement already satisfied: llama-parse>=0.5.0 in c:\\users\\dvins\\anaconda3\\lib\\site-packages (from llama-index-readers-llama-parse>=0.3.0->llama-index) (0.5.2)\n",
      "Requirement already satisfied: click in c:\\users\\dvins\\anaconda3\\lib\\site-packages (from nltk>3.8.1->llama-index) (8.0.4)\n",
      "Requirement already satisfied: joblib in c:\\users\\dvins\\anaconda3\\lib\\site-packages (from nltk>3.8.1->llama-index) (1.3.2)\n",
      "Requirement already satisfied: regex>=2021.8.3 in c:\\users\\dvins\\anaconda3\\lib\\site-packages (from nltk>3.8.1->llama-index) (2022.7.9)\n",
      "Requirement already satisfied: aiohappyeyeballs>=2.3.0 in c:\\users\\dvins\\anaconda3\\lib\\site-packages (from aiohttp<4.0.0,>=3.8.6->llama-index-core<0.12.0,>=0.11.6->llama-index) (2.4.0)\n",
      "Requirement already satisfied: aiosignal>=1.1.2 in c:\\users\\dvins\\anaconda3\\lib\\site-packages (from aiohttp<4.0.0,>=3.8.6->llama-index-core<0.12.0,>=0.11.6->llama-index) (1.2.0)\n",
      "Requirement already satisfied: attrs>=17.3.0 in c:\\users\\dvins\\anaconda3\\lib\\site-packages (from aiohttp<4.0.0,>=3.8.6->llama-index-core<0.12.0,>=0.11.6->llama-index) (21.4.0)\n",
      "Requirement already satisfied: frozenlist>=1.1.1 in c:\\users\\dvins\\anaconda3\\lib\\site-packages (from aiohttp<4.0.0,>=3.8.6->llama-index-core<0.12.0,>=0.11.6->llama-index) (1.3.3)\n",
      "Requirement already satisfied: multidict<7.0,>=4.5 in c:\\users\\dvins\\anaconda3\\lib\\site-packages (from aiohttp<4.0.0,>=3.8.6->llama-index-core<0.12.0,>=0.11.6->llama-index) (6.0.2)\n",
      "Requirement already satisfied: yarl<2.0,>=1.0 in c:\\users\\dvins\\anaconda3\\lib\\site-packages (from aiohttp<4.0.0,>=3.8.6->llama-index-core<0.12.0,>=0.11.6->llama-index) (1.8.1)\n",
      "Requirement already satisfied: async-timeout<5.0,>=4.0 in c:\\users\\dvins\\anaconda3\\lib\\site-packages (from aiohttp<4.0.0,>=3.8.6->llama-index-core<0.12.0,>=0.11.6->llama-index) (4.0.2)\n",
      "Requirement already satisfied: soupsieve>1.2 in c:\\users\\dvins\\anaconda3\\lib\\site-packages (from beautifulsoup4<5.0.0,>=4.12.3->llama-index-readers-file<0.3.0,>=0.2.0->llama-index) (2.3.1)\n",
      "Requirement already satisfied: anyio in c:\\users\\dvins\\anaconda3\\lib\\site-packages (from httpx->llama-index-core<0.12.0,>=0.11.6->llama-index) (3.5.0)\n",
      "Requirement already satisfied: certifi in c:\\users\\dvins\\anaconda3\\lib\\site-packages (from httpx->llama-index-core<0.12.0,>=0.11.6->llama-index) (2023.7.22)\n",
      "Requirement already satisfied: httpcore==1.* in c:\\users\\dvins\\anaconda3\\lib\\site-packages (from httpx->llama-index-core<0.12.0,>=0.11.6->llama-index) (1.0.5)\n",
      "Requirement already satisfied: idna in c:\\users\\dvins\\anaconda3\\lib\\site-packages (from httpx->llama-index-core<0.12.0,>=0.11.6->llama-index) (3.8)\n",
      "Requirement already satisfied: sniffio in c:\\users\\dvins\\anaconda3\\lib\\site-packages (from httpx->llama-index-core<0.12.0,>=0.11.6->llama-index) (1.2.0)\n",
      "Requirement already satisfied: h11<0.15,>=0.13 in c:\\users\\dvins\\anaconda3\\lib\\site-packages (from httpcore==1.*->httpx->llama-index-core<0.12.0,>=0.11.6->llama-index) (0.14.0)\n",
      "Requirement already satisfied: distro<2,>=1.7.0 in c:\\users\\dvins\\anaconda3\\lib\\site-packages (from openai>=1.14.0->llama-index-agent-openai<0.4.0,>=0.3.0->llama-index) (1.9.0)\n",
      "Requirement already satisfied: jiter<1,>=0.4.0 in c:\\users\\dvins\\anaconda3\\lib\\site-packages (from openai>=1.14.0->llama-index-agent-openai<0.4.0,>=0.3.0->llama-index) (0.5.0)\n",
      "Requirement already satisfied: annotated-types>=0.4.0 in c:\\users\\dvins\\anaconda3\\lib\\site-packages (from pydantic<3.0.0,>=2.7.0->llama-index-core<0.12.0,>=0.11.6->llama-index) (0.7.0)\n",
      "Requirement already satisfied: pydantic-core==2.23.2 in c:\\users\\dvins\\anaconda3\\lib\\site-packages (from pydantic<3.0.0,>=2.7.0->llama-index-core<0.12.0,>=0.11.6->llama-index) (2.23.2)\n",
      "Requirement already satisfied: tzdata in c:\\users\\dvins\\anaconda3\\lib\\site-packages (from pydantic<3.0.0,>=2.7.0->llama-index-core<0.12.0,>=0.11.6->llama-index) (2024.1)\n",
      "Requirement already satisfied: charset-normalizer<4,>=2 in c:\\users\\dvins\\anaconda3\\lib\\site-packages (from requests>=2.31.0->llama-index-core<0.12.0,>=0.11.6->llama-index) (2.0.4)\n",
      "Requirement already satisfied: urllib3<3,>=1.21.1 in c:\\users\\dvins\\anaconda3\\lib\\site-packages (from requests>=2.31.0->llama-index-core<0.12.0,>=0.11.6->llama-index) (1.22)\n",
      "Requirement already satisfied: greenlet!=0.4.17 in c:\\users\\dvins\\anaconda3\\lib\\site-packages (from SQLAlchemy>=1.4.49->SQLAlchemy[asyncio]>=1.4.49->llama-index-core<0.12.0,>=0.11.6->llama-index) (1.1.1)\n",
      "Requirement already satisfied: colorama in c:\\users\\dvins\\anaconda3\\lib\\site-packages (from tqdm<5.0.0,>=4.66.1->llama-index-core<0.12.0,>=0.11.6->llama-index) (0.4.5)\n",
      "Requirement already satisfied: mypy-extensions>=0.3.0 in c:\\users\\dvins\\anaconda3\\lib\\site-packages (from typing-inspect>=0.8.0->llama-index-core<0.12.0,>=0.11.6->llama-index) (0.4.3)\n",
      "Requirement already satisfied: marshmallow<4.0.0,>=3.18.0 in c:\\users\\dvins\\anaconda3\\lib\\site-packages (from dataclasses-json->llama-index-core<0.12.0,>=0.11.6->llama-index) (3.22.0)\n",
      "Requirement already satisfied: python-dateutil>=2.8.2 in c:\\users\\dvins\\anaconda3\\lib\\site-packages (from pandas->llama-index-legacy<0.10.0,>=0.9.48->llama-index) (2.8.2)\n",
      "Requirement already satisfied: pytz>=2020.1 in c:\\users\\dvins\\anaconda3\\lib\\site-packages (from pandas->llama-index-legacy<0.10.0,>=0.9.48->llama-index) (2024.1)\n",
      "Requirement already satisfied: packaging>=17.0 in c:\\users\\dvins\\anaconda3\\lib\\site-packages (from marshmallow<4.0.0,>=3.18.0->dataclasses-json->llama-index-core<0.12.0,>=0.11.6->llama-index) (21.3)\n",
      "Requirement already satisfied: six>=1.5 in c:\\users\\dvins\\anaconda3\\lib\\site-packages (from python-dateutil>=2.8.2->pandas->llama-index-legacy<0.10.0,>=0.9.48->llama-index) (1.16.0)\n",
      "Requirement already satisfied: pyparsing!=3.0.5,>=2.0.2 in c:\\users\\dvins\\anaconda3\\lib\\site-packages (from packaging>=17.0->marshmallow<4.0.0,>=3.18.0->dataclasses-json->llama-index-core<0.12.0,>=0.11.6->llama-index) (3.0.9)\n"
     ]
    }
   ],
   "source": [
    "!pip install llama-index"
   ]
  },
  {
   "cell_type": "code",
   "execution_count": 11,
   "metadata": {},
   "outputs": [],
   "source": [
    "from llama_index.core import VectorStoreIndex, SimpleDirectoryReader\n",
    "\n",
    "documents=SimpleDirectoryReader(\"data\").load_data()"
   ]
  },
  {
   "cell_type": "code",
   "execution_count": 12,
   "metadata": {},
   "outputs": [
    {
     "data": {
      "application/vnd.jupyter.widget-view+json": {
       "model_id": "4d5bd5a06f3a42a09e4fcaac9edc4cbf",
       "version_major": 2,
       "version_minor": 0
      },
      "text/plain": [
       "Parsing nodes:   0%|          | 0/15 [00:00<?, ?it/s]"
      ]
     },
     "metadata": {},
     "output_type": "display_data"
    },
    {
     "data": {
      "application/vnd.jupyter.widget-view+json": {
       "model_id": "c87d182652b8411cb8fa59c36da99a94",
       "version_major": 2,
       "version_minor": 0
      },
      "text/plain": [
       "Generating embeddings:   0%|          | 0/15 [00:00<?, ?it/s]"
      ]
     },
     "metadata": {},
     "output_type": "display_data"
    }
   ],
   "source": [
    "index=VectorStoreIndex.from_documents(documents,show_progress=True)"
   ]
  },
  {
   "cell_type": "code",
   "execution_count": 13,
   "metadata": {},
   "outputs": [
    {
     "data": {
      "text/plain": [
       "<llama_index.core.indices.vector_store.base.VectorStoreIndex at 0x1e1c092c460>"
      ]
     },
     "execution_count": 13,
     "metadata": {},
     "output_type": "execute_result"
    }
   ],
   "source": [
    "index"
   ]
  },
  {
   "cell_type": "code",
   "execution_count": 14,
   "metadata": {},
   "outputs": [],
   "source": [
    "query_engine=index.as_query_engine()"
   ]
  },
  {
   "cell_type": "code",
   "execution_count": 15,
   "metadata": {},
   "outputs": [],
   "source": [
    "from llama_index.core.retrievers import VectorIndexRetriever\n",
    "from llama_index.core.query_engine import RetrieverQueryEngine\n",
    "from llama_index.core.indices.postprocessor import SimilarityPostprocessor\n",
    "\n",
    "retriever=VectorIndexRetriever(index=index,similarity_top_k=4)\n",
    "postprocessor=SimilarityPostprocessor(similarity_cutoff=0.80)\n",
    "\n",
    "query_engine=RetrieverQueryEngine(retriever=retriever,\n",
    "                                  node_postprocessors=[postprocessor])"
   ]
  },
  {
   "cell_type": "code",
   "execution_count": 21,
   "metadata": {},
   "outputs": [
    {
     "name": "stdout",
     "output_type": "stream",
     "text": [
      "Final Response: A Disembarkation Card is a form that foreign visitors\n",
      "arriving in Sri Lanka are required to have for immigration clearance.\n",
      "It must be completed in a neat and legible manner, with a separate\n",
      "card needed for each accompanying child traveling with the same\n",
      "passport. The completed Disembarkation card is presented to the\n",
      "Immigration officer at the immigration counter, along with the\n",
      "traveler's travel documents. Upon granting immigration clearance, the\n",
      "officer retains the Disembarkation card and stamps the visitor's\n",
      "passport with an endorsement indicating the period allowed to enter\n",
      "and stay in Sri Lanka.\n",
      "______________________________________________________________________\n",
      "Source Node 1/2\n",
      "Node ID: 09414736-7442-4282-935b-d976a40debf0\n",
      "Similarity: 0.8577470425785039\n",
      "Text: ● Participate in business meetings and negotiations ●\n",
      "Conferences, workshops and seminars ● Short term training programs ●\n",
      "Transiting Sri Lanka More information about Sri Lanka ETA ( Click Here\n",
      ") Travelers with all other purposes; Travelers visiting Sri Lanka for\n",
      "all other purposes MUST have Visa before arriving Sri Lanka. For\n",
      "information and as...\n",
      "______________________________________________________________________\n",
      "Source Node 2/2\n",
      "Node ID: 03a20625-86c4-4d35-b1b8-0a3e6db89181\n",
      "Similarity: 0.7748734434325052\n",
      "Text: Overview The Dual- Channel system (or Red and Green Channels\n",
      "system) enables the quick clearance of travelers at entry checkpoints:\n",
      "Red or Green? When you arrive at the checkpoint, you are required to\n",
      "declare fully and correctly all dutiable, controlled or prohibited\n",
      "items that you are carrying at the Red Channel. All such goods and\n",
      "their import...\n"
     ]
    }
   ],
   "source": [
    "from llama_index.core.response.pprint_utils import pprint_response\n",
    "\n",
    "response = query_engine.query(\"What is a Disembarkation Card?\")\n",
    "pprint_response(response, show_source=True)\n",
    "#print(response)"
   ]
  },
  {
   "cell_type": "code",
   "execution_count": null,
   "metadata": {},
   "outputs": [],
   "source": []
  }
 ],
 "metadata": {
  "kernelspec": {
   "display_name": "Python 3 (ipykernel)",
   "language": "python",
   "name": "python3"
  },
  "language_info": {
   "codemirror_mode": {
    "name": "ipython",
    "version": 3
   },
   "file_extension": ".py",
   "mimetype": "text/x-python",
   "name": "python",
   "nbconvert_exporter": "python",
   "pygments_lexer": "ipython3",
   "version": "3.9.13"
  }
 },
 "nbformat": 4,
 "nbformat_minor": 2
}
